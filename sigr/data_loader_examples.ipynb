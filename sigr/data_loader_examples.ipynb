{
 "cells": [
  {
   "cell_type": "markdown",
   "metadata": {},
   "source": [
    "# data_loader"
   ]
  },
  {
   "cell_type": "markdown",
   "metadata": {},
   "source": [
    "The `data_loader` provides convenience functions for working with data."
   ]
  },
  {
   "cell_type": "markdown",
   "metadata": {
    "jp-MarkdownHeadingCollapsed": true,
    "jupyter": {
     "outputs_hidden": true
    },
    "tags": []
   },
   "source": [
    "## `list_composers`"
   ]
  },
  {
   "cell_type": "code",
   "execution_count": 1,
   "metadata": {},
   "outputs": [
    {
     "data": {
      "text/plain": [
       "['beethoven', 'bruckner', 'mahler', 'mozart']"
      ]
     },
     "execution_count": 1,
     "metadata": {},
     "output_type": "execute_result"
    }
   ],
   "source": [
    "from data_loader import list_composers\n",
    "\n",
    "list_composers()"
   ]
  },
  {
   "cell_type": "markdown",
   "metadata": {
    "jp-MarkdownHeadingCollapsed": true,
    "tags": []
   },
   "source": [
    "## `list_anechoic_data`"
   ]
  },
  {
   "cell_type": "code",
   "execution_count": 2,
   "metadata": {},
   "outputs": [
    {
     "data": {
      "text/plain": [
       "['data\\\\anechoic\\\\beethoven\\\\beethoven_bsn1_6.mp3',\n",
       " 'data\\\\anechoic\\\\beethoven\\\\beethoven_bsn2_6.mp3',\n",
       " 'data\\\\anechoic\\\\beethoven\\\\beethoven_cl1_6.mp3',\n",
       " 'data\\\\anechoic\\\\beethoven\\\\beethoven_cl2_6.mp3',\n",
       " 'data\\\\anechoic\\\\beethoven\\\\beethoven_corno1_6.mp3',\n",
       " 'data\\\\anechoic\\\\beethoven\\\\beethoven_corno2_6.mp3',\n",
       " 'data\\\\anechoic\\\\beethoven\\\\beethoven_fl1_6.mp3',\n",
       " 'data\\\\anechoic\\\\beethoven\\\\beethoven_fl2_6.mp3',\n",
       " 'data\\\\anechoic\\\\beethoven\\\\beethoven_kb_6.mp3',\n",
       " 'data\\\\anechoic\\\\beethoven\\\\beethoven_ob1_6.mp3',\n",
       " 'data\\\\anechoic\\\\beethoven\\\\beethoven_ob2_6.mp3',\n",
       " 'data\\\\anechoic\\\\beethoven\\\\beethoven_timp_6.mp3',\n",
       " 'data\\\\anechoic\\\\beethoven\\\\beethoven_tr1_6.mp3',\n",
       " 'data\\\\anechoic\\\\beethoven\\\\beethoven_tr2_6.mp3',\n",
       " 'data\\\\anechoic\\\\beethoven\\\\beethoven_vc_6.mp3',\n",
       " 'data\\\\anechoic\\\\beethoven\\\\beethoven_vl1a_6.mp3',\n",
       " 'data\\\\anechoic\\\\beethoven\\\\beethoven_vl1b_6.mp3',\n",
       " 'data\\\\anechoic\\\\beethoven\\\\beethoven_vl2a_6.mp3',\n",
       " 'data\\\\anechoic\\\\beethoven\\\\beethoven_vl2b_6.mp3',\n",
       " 'data\\\\anechoic\\\\beethoven\\\\beethoven_vlaa_6.mp3',\n",
       " 'data\\\\anechoic\\\\beethoven\\\\beethoven_vlab_6.mp3']"
      ]
     },
     "execution_count": 2,
     "metadata": {},
     "output_type": "execute_result"
    }
   ],
   "source": [
    "from data_loader import list_anechoic_data\n",
    "\n",
    "list_anechoic_data()['beethoven']"
   ]
  },
  {
   "cell_type": "markdown",
   "metadata": {
    "jp-MarkdownHeadingCollapsed": true,
    "tags": []
   },
   "source": [
    "## `list_hrtf_data`"
   ]
  },
  {
   "cell_type": "code",
   "execution_count": 3,
   "metadata": {},
   "outputs": [
    {
     "name": "stdout",
     "output_type": "stream",
     "text": [
      "Zeniths: -40, -30, -20, -10, 0, 10, 20, 30, 40, 50, 60, 70, 80, 90\n"
     ]
    }
   ],
   "source": [
    "from data_loader import list_hrtf_data\n",
    "\n",
    "zeniths = sorted(list(list_hrtf_data().keys()))\n",
    "print(f'Zeniths: {\", \".join([str(z) for z in zeniths])}')"
   ]
  },
  {
   "cell_type": "markdown",
   "metadata": {
    "jp-MarkdownHeadingCollapsed": true,
    "tags": []
   },
   "source": [
    "## `get_zeniths`"
   ]
  },
  {
   "cell_type": "code",
   "execution_count": 4,
   "metadata": {},
   "outputs": [
    {
     "name": "stdout",
     "output_type": "stream",
     "text": [
      "Zeniths: 0, 10, 20, 30\n"
     ]
    }
   ],
   "source": [
    "from data_loader import get_zeniths\n",
    "\n",
    "zmin = 0\n",
    "zmax = 30\n",
    "print(f'Zeniths: {\", \".join([str(z) for z in get_zeniths(zmin, zmax)])}')"
   ]
  },
  {
   "cell_type": "markdown",
   "metadata": {
    "jp-MarkdownHeadingCollapsed": true,
    "tags": []
   },
   "source": [
    "## `get_azimuths`"
   ]
  },
  {
   "cell_type": "code",
   "execution_count": 5,
   "metadata": {},
   "outputs": [
    {
     "name": "stdout",
     "output_type": "stream",
     "text": [
      "Azimuths: 0, 5, 6, 8, 10, 12, 13, 15, 16, 18, 19, 20, 24, 25, 26, 30, 32, 35, 36, 39, 40, 42, 45\n"
     ]
    }
   ],
   "source": [
    "from data_loader import get_azimuths\n",
    "\n",
    "amin = 0\n",
    "amax = 45\n",
    "print(f'Azimuths: {\", \".join([str(a) for a in get_azimuths(amin, amax)])}')"
   ]
  },
  {
   "cell_type": "markdown",
   "metadata": {
    "jp-MarkdownHeadingCollapsed": true,
    "tags": []
   },
   "source": [
    "## `get_hrtfs`"
   ]
  },
  {
   "cell_type": "code",
   "execution_count": 6,
   "metadata": {},
   "outputs": [
    {
     "name": "stdout",
     "output_type": "stream",
     "text": [
      "['Zenith: 0 azimuth: 0', 'Zenith: 0 azimuth: 5', 'Zenith: 0 azimuth: 10', 'Zenith: 0 azimuth: 15', 'Zenith: 0 azimuth: 20', 'Zenith: 0 azimuth: 25', 'Zenith: 0 azimuth: 30', 'Zenith: 0 azimuth: 35', 'Zenith: 0 azimuth: 40', 'Zenith: 0 azimuth: 45', 'Zenith: 10 azimuth: 0', 'Zenith: 10 azimuth: 5', 'Zenith: 10 azimuth: 10', 'Zenith: 10 azimuth: 15', 'Zenith: 10 azimuth: 20', 'Zenith: 10 azimuth: 25', 'Zenith: 10 azimuth: 30', 'Zenith: 10 azimuth: 35', 'Zenith: 10 azimuth: 40', 'Zenith: 10 azimuth: 45', 'Zenith: 20 azimuth: 0', 'Zenith: 20 azimuth: 5', 'Zenith: 20 azimuth: 10', 'Zenith: 20 azimuth: 15', 'Zenith: 20 azimuth: 20', 'Zenith: 20 azimuth: 25', 'Zenith: 20 azimuth: 30', 'Zenith: 20 azimuth: 35', 'Zenith: 20 azimuth: 40', 'Zenith: 20 azimuth: 45', 'Zenith: 30 azimuth: 0', 'Zenith: 30 azimuth: 6', 'Zenith: 30 azimuth: 12', 'Zenith: 30 azimuth: 18', 'Zenith: 30 azimuth: 24', 'Zenith: 30 azimuth: 30', 'Zenith: 30 azimuth: 36', 'Zenith: 30 azimuth: 42']\n"
     ]
    }
   ],
   "source": [
    "from data_loader import get_hrtfs\n",
    "\n",
    "zeniths, azimuths = get_hrtfs(amin, amax, zmin, zmax)\n",
    "print([f\"Zenith: {zeniths[i]} azimuth: {azimuths[i]}\" for i in range(len(zeniths))])"
   ]
  },
  {
   "cell_type": "markdown",
   "metadata": {
    "jp-MarkdownHeadingCollapsed": true,
    "tags": []
   },
   "source": [
    "## `list_anechoic_lengths`"
   ]
  },
  {
   "cell_type": "code",
   "execution_count": 7,
   "metadata": {},
   "outputs": [
    {
     "data": {
      "text/plain": [
       "{'beethoven': 191000, 'bruckner': 87000, 'mahler': 132000, 'mozart': 227000}"
      ]
     },
     "execution_count": 7,
     "metadata": {},
     "output_type": "execute_result"
    }
   ],
   "source": [
    "from data_loader import list_anechoic_lengths\n",
    "\n",
    "list_anechoic_lengths()"
   ]
  },
  {
   "cell_type": "markdown",
   "metadata": {
    "jp-MarkdownHeadingCollapsed": true,
    "tags": []
   },
   "source": [
    "## `read_recipe`"
   ]
  },
  {
   "cell_type": "code",
   "execution_count": 9,
   "metadata": {},
   "outputs": [
    {
     "data": {
      "text/html": [
       "<div>\n",
       "<style scoped>\n",
       "    .dataframe tbody tr th:only-of-type {\n",
       "        vertical-align: middle;\n",
       "    }\n",
       "\n",
       "    .dataframe tbody tr th {\n",
       "        vertical-align: top;\n",
       "    }\n",
       "\n",
       "    .dataframe thead th {\n",
       "        text-align: right;\n",
       "    }\n",
       "</style>\n",
       "<table border=\"1\" class=\"dataframe\">\n",
       "  <thead>\n",
       "    <tr style=\"text-align: right;\">\n",
       "      <th></th>\n",
       "      <th>composer</th>\n",
       "      <th>part_count</th>\n",
       "      <th>parts</th>\n",
       "      <th>zenith</th>\n",
       "      <th>azimuth</th>\n",
       "      <th>offset</th>\n",
       "      <th>duration</th>\n",
       "      <th>reverb_time</th>\n",
       "      <th>reverb_delay</th>\n",
       "      <th>reverb_amplitude</th>\n",
       "      <th>reflection_count</th>\n",
       "      <th>reflection_amplitude</th>\n",
       "      <th>reflection_delay</th>\n",
       "      <th>reflection_zenith</th>\n",
       "      <th>reflection_azimuth</th>\n",
       "      <th>filepath</th>\n",
       "      <th>name</th>\n",
       "    </tr>\n",
       "  </thead>\n",
       "  <tbody>\n",
       "    <tr>\n",
       "      <th>0</th>\n",
       "      <td>beethoven</td>\n",
       "      <td>16</td>\n",
       "      <td>[data/anechoic/beethoven/beethoven_vc_6.mp3, d...</td>\n",
       "      <td>10</td>\n",
       "      <td>250</td>\n",
       "      <td>175500</td>\n",
       "      <td>10</td>\n",
       "      <td>1</td>\n",
       "      <td>60</td>\n",
       "      <td>0.004387</td>\n",
       "      <td>6</td>\n",
       "      <td>[0.9505636915343667, 0.7803620310410586, 0.577...</td>\n",
       "      <td>[20, 24, 20, 39, 25, 55]</td>\n",
       "      <td>[60, 70, -30, 40, 30, 60]</td>\n",
       "      <td>[210, 165, 108, 122, 264, 10]</td>\n",
       "      <td>beethoven_19844208</td>\n",
       "      <td></td>\n",
       "    </tr>\n",
       "    <tr>\n",
       "      <th>0</th>\n",
       "      <td>mahler</td>\n",
       "      <td>36</td>\n",
       "      <td>[data/anechoic/mahler/mahler_bsn1_6.mp3, data/...</td>\n",
       "      <td>70</td>\n",
       "      <td>30</td>\n",
       "      <td>47635</td>\n",
       "      <td>10</td>\n",
       "      <td>6</td>\n",
       "      <td>57</td>\n",
       "      <td>0.012179</td>\n",
       "      <td>8</td>\n",
       "      <td>[0.506073225009567, 0.7706143173997314, 0.3120...</td>\n",
       "      <td>[47, 31, 45, 3, 36, 11, 3, 34]</td>\n",
       "      <td>[10, 40, 10, 60, -30, 20, -10, 70]</td>\n",
       "      <td>[115, 109, 305, 50, 132, 270, 75, 135]</td>\n",
       "      <td>mahler_78000712</td>\n",
       "      <td></td>\n",
       "    </tr>\n",
       "    <tr>\n",
       "      <th>0</th>\n",
       "      <td>beethoven</td>\n",
       "      <td>2</td>\n",
       "      <td>[data/anechoic/beethoven/beethoven_bsn2_6.mp3,...</td>\n",
       "      <td>-40</td>\n",
       "      <td>328</td>\n",
       "      <td>77090</td>\n",
       "      <td>10</td>\n",
       "      <td>8</td>\n",
       "      <td>3</td>\n",
       "      <td>0.007938</td>\n",
       "      <td>8</td>\n",
       "      <td>[0.6049630149068885, 0.01959069317276374, 0.51...</td>\n",
       "      <td>[28, 52, 37, 41, 16, 4, 48, 44]</td>\n",
       "      <td>[20, 0, 40, 10, 70, 80, 50, 60]</td>\n",
       "      <td>[335, 90, 13, 125, 195, 60, 72, 230]</td>\n",
       "      <td>beethoven_97589302</td>\n",
       "      <td></td>\n",
       "    </tr>\n",
       "    <tr>\n",
       "      <th>0</th>\n",
       "      <td>bruckner</td>\n",
       "      <td>44</td>\n",
       "      <td>[data/anechoic/bruckner/bruckner_vl1d_6.mp3, d...</td>\n",
       "      <td>80</td>\n",
       "      <td>60</td>\n",
       "      <td>3886</td>\n",
       "      <td>10</td>\n",
       "      <td>6</td>\n",
       "      <td>11</td>\n",
       "      <td>0.046359</td>\n",
       "      <td>5</td>\n",
       "      <td>[0.1108307921378695, 0.4570697971218046, 0.886...</td>\n",
       "      <td>[18, 21, 44, 52, 45]</td>\n",
       "      <td>[0, -30, 10, -30, 30]</td>\n",
       "      <td>[30, 270, 155, 276, 96]</td>\n",
       "      <td>bruckner_59424954</td>\n",
       "      <td></td>\n",
       "    </tr>\n",
       "    <tr>\n",
       "      <th>0</th>\n",
       "      <td>mozart</td>\n",
       "      <td>4</td>\n",
       "      <td>[data/anechoic/mozart/mozart_vl2_6.mp3, data/a...</td>\n",
       "      <td>0</td>\n",
       "      <td>295</td>\n",
       "      <td>123641</td>\n",
       "      <td>10</td>\n",
       "      <td>8</td>\n",
       "      <td>10</td>\n",
       "      <td>0.026942</td>\n",
       "      <td>6</td>\n",
       "      <td>[0.21980257302794837, 0.215469231166052, 0.352...</td>\n",
       "      <td>[13, 56, 22, 11, 17, 59]</td>\n",
       "      <td>[0, 20, 30, 10, 70, 30]</td>\n",
       "      <td>[10, 210, 72, 40, 165, 216]</td>\n",
       "      <td>mozart_47757752</td>\n",
       "      <td></td>\n",
       "    </tr>\n",
       "  </tbody>\n",
       "</table>\n",
       "</div>"
      ],
      "text/plain": [
       "    composer  part_count                                              parts  \\\n",
       "0  beethoven          16  [data/anechoic/beethoven/beethoven_vc_6.mp3, d...   \n",
       "0     mahler          36  [data/anechoic/mahler/mahler_bsn1_6.mp3, data/...   \n",
       "0  beethoven           2  [data/anechoic/beethoven/beethoven_bsn2_6.mp3,...   \n",
       "0   bruckner          44  [data/anechoic/bruckner/bruckner_vl1d_6.mp3, d...   \n",
       "0     mozart           4  [data/anechoic/mozart/mozart_vl2_6.mp3, data/a...   \n",
       "\n",
       "   zenith  azimuth  offset  duration  reverb_time  reverb_delay  \\\n",
       "0      10      250  175500        10            1            60   \n",
       "0      70       30   47635        10            6            57   \n",
       "0     -40      328   77090        10            8             3   \n",
       "0      80       60    3886        10            6            11   \n",
       "0       0      295  123641        10            8            10   \n",
       "\n",
       "   reverb_amplitude  reflection_count  \\\n",
       "0          0.004387                 6   \n",
       "0          0.012179                 8   \n",
       "0          0.007938                 8   \n",
       "0          0.046359                 5   \n",
       "0          0.026942                 6   \n",
       "\n",
       "                                reflection_amplitude  \\\n",
       "0  [0.9505636915343667, 0.7803620310410586, 0.577...   \n",
       "0  [0.506073225009567, 0.7706143173997314, 0.3120...   \n",
       "0  [0.6049630149068885, 0.01959069317276374, 0.51...   \n",
       "0  [0.1108307921378695, 0.4570697971218046, 0.886...   \n",
       "0  [0.21980257302794837, 0.215469231166052, 0.352...   \n",
       "\n",
       "                  reflection_delay                   reflection_zenith  \\\n",
       "0         [20, 24, 20, 39, 25, 55]           [60, 70, -30, 40, 30, 60]   \n",
       "0   [47, 31, 45, 3, 36, 11, 3, 34]  [10, 40, 10, 60, -30, 20, -10, 70]   \n",
       "0  [28, 52, 37, 41, 16, 4, 48, 44]     [20, 0, 40, 10, 70, 80, 50, 60]   \n",
       "0             [18, 21, 44, 52, 45]               [0, -30, 10, -30, 30]   \n",
       "0         [13, 56, 22, 11, 17, 59]             [0, 20, 30, 10, 70, 30]   \n",
       "\n",
       "                       reflection_azimuth            filepath name  \n",
       "0           [210, 165, 108, 122, 264, 10]  beethoven_19844208       \n",
       "0  [115, 109, 305, 50, 132, 270, 75, 135]     mahler_78000712       \n",
       "0    [335, 90, 13, 125, 195, 60, 72, 230]  beethoven_97589302       \n",
       "0                 [30, 270, 155, 276, 96]   bruckner_59424954       \n",
       "0             [10, 210, 72, 40, 165, 216]     mozart_47757752       "
      ]
     },
     "execution_count": 9,
     "metadata": {},
     "output_type": "execute_result"
    }
   ],
   "source": [
    "from data_loader import read_recipe\n",
    "\n",
    "recipe_path = './data/dataset_recipe'\n",
    "dd = read_recipe(recipe_path)\n",
    "dd.head()"
   ]
  },
  {
   "cell_type": "markdown",
   "metadata": {
    "jp-MarkdownHeadingCollapsed": true,
    "tags": []
   },
   "source": [
    "## `read_ingredients`"
   ]
  },
  {
   "cell_type": "code",
   "execution_count": 10,
   "metadata": {},
   "outputs": [
    {
     "data": {
      "text/html": [
       "<div>\n",
       "<style scoped>\n",
       "    .dataframe tbody tr th:only-of-type {\n",
       "        vertical-align: middle;\n",
       "    }\n",
       "\n",
       "    .dataframe tbody tr th {\n",
       "        vertical-align: top;\n",
       "    }\n",
       "\n",
       "    .dataframe thead th {\n",
       "        text-align: right;\n",
       "    }\n",
       "</style>\n",
       "<table border=\"1\" class=\"dataframe\">\n",
       "  <thead>\n",
       "    <tr style=\"text-align: right;\">\n",
       "      <th></th>\n",
       "      <th>seed</th>\n",
       "      <th>duration</th>\n",
       "      <th>delay_limits</th>\n",
       "      <th>time_limits</th>\n",
       "      <th>reflection_limits</th>\n",
       "      <th>zenith_limits</th>\n",
       "      <th>azimuth_limits</th>\n",
       "      <th>sample_count</th>\n",
       "    </tr>\n",
       "  </thead>\n",
       "  <tbody>\n",
       "    <tr>\n",
       "      <th>0</th>\n",
       "      <td>0xec0ec0</td>\n",
       "      <td>10</td>\n",
       "      <td>[1, 60]</td>\n",
       "      <td>[1, 8]</td>\n",
       "      <td>[4, 8]</td>\n",
       "      <td>[-40, 90]</td>\n",
       "      <td>[0, 360]</td>\n",
       "      <td>1</td>\n",
       "    </tr>\n",
       "  </tbody>\n",
       "</table>\n",
       "</div>"
      ],
      "text/plain": [
       "       seed  duration delay_limits time_limits reflection_limits  \\\n",
       "0  0xec0ec0        10      [1, 60]      [1, 8]            [4, 8]   \n",
       "\n",
       "  zenith_limits azimuth_limits  sample_count  \n",
       "0     [-40, 90]       [0, 360]             1  "
      ]
     },
     "execution_count": 10,
     "metadata": {},
     "output_type": "execute_result"
    }
   ],
   "source": [
    "from data_loader import read_ingredients\n",
    "\n",
    "ingredients_path = './data/sample_data/reflections/ingredients_48931326.json'\n",
    "pd = read_ingredients(ingredients_path)\n",
    "pd"
   ]
  },
  {
   "cell_type": "markdown",
   "metadata": {
    "jp-MarkdownHeadingCollapsed": true,
    "tags": []
   },
   "source": [
    "## `train_test_validate_split`"
   ]
  },
  {
   "cell_type": "code",
   "execution_count": 11,
   "metadata": {},
   "outputs": [
    {
     "name": "stdout",
     "output_type": "stream",
     "text": [
      "1200 400 400\n"
     ]
    }
   ],
   "source": [
    "from data_loader import train_test_validate_split\n",
    "\n",
    "filepaths = dd['filepath']\n",
    "train, test, validate = train_test_validate_split(filepaths)\n",
    "print(len(train), len(test), len(validate))"
   ]
  },
  {
   "cell_type": "markdown",
   "metadata": {
    "jp-MarkdownHeadingCollapsed": true,
    "tags": []
   },
   "source": [
    "## `split_data`"
   ]
  },
  {
   "cell_type": "code",
   "execution_count": 12,
   "metadata": {},
   "outputs": [],
   "source": [
    "from data_loader import split_data\n",
    "\n",
    "train, test, validate = split_data(recipe_path)"
   ]
  },
  {
   "cell_type": "markdown",
   "metadata": {
    "jp-MarkdownHeadingCollapsed": true,
    "tags": []
   },
   "source": [
    "## `s3_upload`"
   ]
  },
  {
   "cell_type": "code",
   "execution_count": null,
   "metadata": {},
   "outputs": [],
   "source": [
    "from data_loader import s3_upload\n",
    "\n",
    "filepath = '/path/to/your/data'\n",
    "bucket = 'your-bucket'\n",
    "filename = 'your-data.zip'\n",
    "access_key = 'youraccesskey'\n",
    "secret_key = 'yoursecretkey'\n",
    "s3_upload(filepath, bucket, filename, access_key, secret_key)\n"
   ]
  }
 ],
 "metadata": {
  "kernelspec": {
   "display_name": "Python 3 (ipykernel)",
   "language": "python",
   "name": "python3"
  },
  "language_info": {
   "codemirror_mode": {
    "name": "ipython",
    "version": 3
   },
   "file_extension": ".py",
   "mimetype": "text/x-python",
   "name": "python",
   "nbconvert_exporter": "python",
   "pygments_lexer": "ipython3",
   "version": "3.10.0"
  },
  "widgets": {
   "application/vnd.jupyter.widget-state+json": {
    "state": {},
    "version_major": 2,
    "version_minor": 0
   }
  }
 },
 "nbformat": 4,
 "nbformat_minor": 4
}
