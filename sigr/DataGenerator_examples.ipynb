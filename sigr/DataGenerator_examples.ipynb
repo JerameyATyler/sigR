{
 "cells": [
  {
   "cell_type": "markdown",
   "id": "94151865-6c50-4268-a6b2-bc5b83f6dcd0",
   "metadata": {},
   "source": [
    "# DataGenerator"
   ]
  },
  {
   "cell_type": "markdown",
   "id": "1612a81b-f412-4d90-84f8-27ba6252112b",
   "metadata": {},
   "source": [
    "The `DataGenerator` class automates creation of a big dataset. The data produced can be customized by providing an custom `RNG` object. The following parameters are configurable via `RNG`:\n",
    "> * seed (str): A hexidecimal string for generating random numbers\n",
    "> * duration (int): Time in seconds of each sample\n",
    "> * delay_limits (tuple(int, int)): The minimum and maximum delays allowed for reflections or reverberations\n",
    "> * time_limits (tuplt(int, int)): The minimum and maximum reverberation time allowed\n",
    "> * reflection_limits (tuple(int, int)): The minimum and maximum number of reflections allowed per sample\n",
    "> * zenith_limits (tuple(int, int)): The minimum and maximum zeniths (or eleveation) allowed per sample\n",
    "> * azimuth_limits (tuple(int, int)): The minimum and maximum azimuths (or rotation) allowed per sample\n",
    "\n",
    "Additionally `DataGenerator` exposes:\n",
    "> * sample_count (int): The number of samples to produce\n",
    "> * output_directory (str): File system path to where output should be saved\n",
    "> * rng (RNG): An `RNG` object, can be used to customize data\n",
    "> * fs (int): The sampling rate for saving\n",
    "> * verbose (bool): When `True` samples will be saved at each step in the algorithm"
   ]
  },
  {
   "cell_type": "markdown",
   "id": "1aaa567a-dcbf-4158-bd32-22f7571c02e1",
   "metadata": {},
   "source": [
    "## `DataGenerator`"
   ]
  },
  {
   "cell_type": "code",
   "execution_count": 1,
   "id": "900b67e3-8a4e-4f4f-aae9-70c8236e1523",
   "metadata": {},
   "outputs": [],
   "source": [
    "from RNG import RNG\n",
    "from DataGenerator import DataGenerator\n",
    "\n",
    "rng = RNG()\n",
    "dg = DataGenerator(100, 'data/generator_example', rng, verbose=True)"
   ]
  },
  {
   "cell_type": "markdown",
   "id": "f5eff959-d784-4371-bb43-1b2935de8648",
   "metadata": {},
   "source": [
    "## `generate`"
   ]
  },
  {
   "cell_type": "code",
   "execution_count": 2,
   "id": "8d409d4d-43b8-48d9-b61b-5500b63248ea",
   "metadata": {
    "tags": []
   },
   "outputs": [
    {
     "name": "stdout",
     "output_type": "stream",
     "text": [
      "Data generator started\n",
      "Generating ingredients list\n",
      "       seed  duration delay_limits time_limits reflections_limits  \\\n",
      "0  0xec0ec0        10      (1, 60)      (1, 8)             (4, 8)   \n",
      "\n",
      "  zenith_limits azimuth_limits  sample_count  \n",
      "0     (-40, 90)       (0, 360)           100  \n",
      "    composer  part_count                                              parts  \\\n",
      "0     mahler          14  [data\\anechoic\\mahler\\mahler_bsn2_6.mp3, data\\...   \n",
      "0  beethoven           3  [data\\anechoic\\beethoven\\beethoven_tr2_6.mp3, ...   \n",
      "1   bruckner           4  [data\\anechoic\\bruckner\\bruckner_timp_6.mp3, d...   \n",
      "1  beethoven          19  [data\\anechoic\\beethoven\\beethoven_corno1_6.mp...   \n",
      "2     mahler           9  [data\\anechoic\\mahler\\mahler_ob3_6.mp3, data\\a...   \n",
      "\n",
      "   zenith  azimuth  offset  duration  reverb_time  reverb_delay  \\\n",
      "0     -30      288   13940        10            6            55   \n",
      "0      20      275  102614        10            1            49   \n",
      "1       0      305   76784        10            2            48   \n",
      "1     -30       90   17448        10            5            24   \n",
      "2       0       50   86227        10            7            47   \n",
      "\n",
      "   reverb_amplitude  reflection_count  \\\n",
      "0          0.006513                 6   \n",
      "0          0.031976                 8   \n",
      "1          0.004527                 4   \n",
      "1          0.019126                 7   \n",
      "2          0.001659                 7   \n",
      "\n",
      "                                reflection_amplitude  \\\n",
      "0  [0.26775493261318595, 0.39151712503376424, 0.4...   \n",
      "0  [0.17657242943704532, 0.8110889027490502, 0.33...   \n",
      "1  [0.11855441046892612, 0.5318338007894087, 0.73...   \n",
      "1  [0.11649583630829674, 0.1374247873997747, 0.99...   \n",
      "2  [0.816843053173332, 0.9383476437329752, 0.0642...   \n",
      "\n",
      "                reflection_delay                   reflection_zenith  \\\n",
      "0        [36, 17, 24, 60, 4, 29]            [50, 10, 30, -40, 50, 0]   \n",
      "0  [34, 14, 1, 29, 9, 54, 3, 57]  [30, 80, 30, -40, 20, 50, -30, 20]   \n",
      "1                [6, 47, 37, 15]                   [10, 20, 10, -40]   \n",
      "1    [30, 7, 40, 40, 33, 18, 36]        [70, -20, 0, 70, 20, 80, 10]   \n",
      "2      [19, 9, 1, 55, 28, 3, 22]       [90, 70, 20, -20, 50, 60, 20]   \n",
      "\n",
      "                       reflection_azimuth            filepath name  \n",
      "0            [48, 315, 108, 180, 96, 200]     mahler_76088669       \n",
      "0  [126, 120, 294, 315, 25, 40, 138, 175]  beethoven_78937176       \n",
      "1                    [325, 175, 210, 238]   bruckner_11917856       \n",
      "1      [345, 60, 325, 315, 175, 270, 200]  beethoven_72641010       \n",
      "2        [0, 225, 295, 200, 304, 90, 170]     mahler_58260055       \n"
     ]
    }
   ],
   "source": [
    "ingredients, recipe = dg.generate()\n",
    "\n",
    "print(ingredients)\n",
    "print(recipe.head())"
   ]
  },
  {
   "cell_type": "markdown",
   "id": "cffceed5-c042-4185-bfb4-1ea01df58217",
   "metadata": {},
   "source": [
    "## `generate_ingredients_list`"
   ]
  },
  {
   "cell_type": "code",
   "execution_count": 3,
   "id": "010ef470-6f8d-43d3-82f6-5ad1e48b953d",
   "metadata": {},
   "outputs": [
    {
     "name": "stdout",
     "output_type": "stream",
     "text": [
      "Generating ingredients list\n"
     ]
    },
    {
     "data": {
      "text/html": [
       "<div>\n",
       "<style scoped>\n",
       "    .dataframe tbody tr th:only-of-type {\n",
       "        vertical-align: middle;\n",
       "    }\n",
       "\n",
       "    .dataframe tbody tr th {\n",
       "        vertical-align: top;\n",
       "    }\n",
       "\n",
       "    .dataframe thead th {\n",
       "        text-align: right;\n",
       "    }\n",
       "</style>\n",
       "<table border=\"1\" class=\"dataframe\">\n",
       "  <thead>\n",
       "    <tr style=\"text-align: right;\">\n",
       "      <th></th>\n",
       "      <th>seed</th>\n",
       "      <th>duration</th>\n",
       "      <th>delay_limits</th>\n",
       "      <th>time_limits</th>\n",
       "      <th>reflections_limits</th>\n",
       "      <th>zenith_limits</th>\n",
       "      <th>azimuth_limits</th>\n",
       "      <th>sample_count</th>\n",
       "    </tr>\n",
       "  </thead>\n",
       "  <tbody>\n",
       "    <tr>\n",
       "      <th>0</th>\n",
       "      <td>0xec0ec0</td>\n",
       "      <td>10</td>\n",
       "      <td>(1, 60)</td>\n",
       "      <td>(1, 8)</td>\n",
       "      <td>(4, 8)</td>\n",
       "      <td>(-40, 90)</td>\n",
       "      <td>(0, 360)</td>\n",
       "      <td>100</td>\n",
       "    </tr>\n",
       "  </tbody>\n",
       "</table>\n",
       "</div>"
      ],
      "text/plain": [
       "       seed  duration delay_limits time_limits reflections_limits  \\\n",
       "0  0xec0ec0        10      (1, 60)      (1, 8)             (4, 8)   \n",
       "\n",
       "  zenith_limits azimuth_limits  sample_count  \n",
       "0     (-40, 90)       (0, 360)           100  "
      ]
     },
     "execution_count": 3,
     "metadata": {},
     "output_type": "execute_result"
    }
   ],
   "source": [
    "dg.generate_ingredients_list()"
   ]
  },
  {
   "cell_type": "markdown",
   "id": "2764b9b1-48d2-4169-8d37-8766e654ae66",
   "metadata": {},
   "source": [
    "## `generate_recipe`"
   ]
  },
  {
   "cell_type": "code",
   "execution_count": 4,
   "id": "dd8a5851-27d0-4beb-9891-81883daebd38",
   "metadata": {},
   "outputs": [
    {
     "name": "stdout",
     "output_type": "stream",
     "text": [
      "Generating recipes\n",
      "Generating recipe mahler_2894305\n",
      "\n",
      "Generating recipe mozart_62686062\n",
      "\n",
      "Generating recipe bruckner_26108590\n",
      "\n",
      "Generating recipe mahler_37910863\n",
      "\n",
      "Generating recipe beethoven_13767182\n",
      "\n",
      "Generating recipe beethoven_72641010\n",
      "\n",
      "Generating recipe mozart_2221934\n",
      "\n",
      "Generating recipe bruckner_27302613\n",
      "\n",
      "Generating recipe mahler_52050650\n",
      "\n",
      "Generating recipe bruckner_99773617\n",
      "\n"
     ]
    },
    {
     "data": {
      "text/html": [
       "<div>\n",
       "<style scoped>\n",
       "    .dataframe tbody tr th:only-of-type {\n",
       "        vertical-align: middle;\n",
       "    }\n",
       "\n",
       "    .dataframe tbody tr th {\n",
       "        vertical-align: top;\n",
       "    }\n",
       "\n",
       "    .dataframe thead th {\n",
       "        text-align: right;\n",
       "    }\n",
       "</style>\n",
       "<table border=\"1\" class=\"dataframe\">\n",
       "  <thead>\n",
       "    <tr style=\"text-align: right;\">\n",
       "      <th></th>\n",
       "      <th>composer</th>\n",
       "      <th>part_count</th>\n",
       "      <th>parts</th>\n",
       "      <th>zenith</th>\n",
       "      <th>azimuth</th>\n",
       "      <th>offset</th>\n",
       "      <th>duration</th>\n",
       "      <th>reverb_time</th>\n",
       "      <th>reverb_delay</th>\n",
       "      <th>reverb_amplitude</th>\n",
       "      <th>reflection_count</th>\n",
       "      <th>reflection_amplitude</th>\n",
       "      <th>reflection_delay</th>\n",
       "      <th>reflection_zenith</th>\n",
       "      <th>reflection_azimuth</th>\n",
       "      <th>filepath</th>\n",
       "      <th>name</th>\n",
       "    </tr>\n",
       "  </thead>\n",
       "  <tbody>\n",
       "    <tr>\n",
       "      <th>0</th>\n",
       "      <td>beethoven</td>\n",
       "      <td>2</td>\n",
       "      <td>[data\\anechoic\\beethoven\\beethoven_tr2_6.mp3, ...</td>\n",
       "      <td>50</td>\n",
       "      <td>168</td>\n",
       "      <td>123266</td>\n",
       "      <td>10</td>\n",
       "      <td>2</td>\n",
       "      <td>59</td>\n",
       "      <td>0.009893</td>\n",
       "      <td>5</td>\n",
       "      <td>[0.6896580159011172, 0.35806274637311675, 0.91...</td>\n",
       "      <td>[4, 46, 17, 13, 44]</td>\n",
       "      <td>[10, -30, 50, 20, -40]</td>\n",
       "      <td>[275, 96, 288, 275, 257]</td>\n",
       "      <td>beethoven_13767182</td>\n",
       "      <td></td>\n",
       "    </tr>\n",
       "    <tr>\n",
       "      <th>1</th>\n",
       "      <td>mahler</td>\n",
       "      <td>20</td>\n",
       "      <td>[data\\anechoic\\mahler\\mahler_corno2_6.mp3, dat...</td>\n",
       "      <td>50</td>\n",
       "      <td>80</td>\n",
       "      <td>115395</td>\n",
       "      <td>10</td>\n",
       "      <td>3</td>\n",
       "      <td>37</td>\n",
       "      <td>0.029793</td>\n",
       "      <td>4</td>\n",
       "      <td>[0.45875729159366263, 0.8331660430010549, 0.93...</td>\n",
       "      <td>[50, 11, 4, 47]</td>\n",
       "      <td>[60, 10, 30, 50]</td>\n",
       "      <td>[40, 270, 72, 256]</td>\n",
       "      <td>mahler_2894305</td>\n",
       "      <td></td>\n",
       "    </tr>\n",
       "    <tr>\n",
       "      <th>2</th>\n",
       "      <td>mahler</td>\n",
       "      <td>15</td>\n",
       "      <td>[data\\anechoic\\mahler\\mahler_vla_6.mp3, data\\a...</td>\n",
       "      <td>90</td>\n",
       "      <td>0</td>\n",
       "      <td>13763</td>\n",
       "      <td>10</td>\n",
       "      <td>1</td>\n",
       "      <td>10</td>\n",
       "      <td>0.015878</td>\n",
       "      <td>8</td>\n",
       "      <td>[0.35097659036599904, 0.9770673046102978, 0.54...</td>\n",
       "      <td>[24, 42, 48, 24, 49, 46, 21, 49]</td>\n",
       "      <td>[0, -20, 10, -30, 0, -40, 10, 10]</td>\n",
       "      <td>[295, 220, 290, 30, 50, 302, 180, 255]</td>\n",
       "      <td>mahler_37910863</td>\n",
       "      <td></td>\n",
       "    </tr>\n",
       "    <tr>\n",
       "      <th>3</th>\n",
       "      <td>mozart</td>\n",
       "      <td>3</td>\n",
       "      <td>[data\\anechoic\\mozart\\mozart_sopr_6.mp3, data\\...</td>\n",
       "      <td>0</td>\n",
       "      <td>340</td>\n",
       "      <td>128284</td>\n",
       "      <td>10</td>\n",
       "      <td>5</td>\n",
       "      <td>9</td>\n",
       "      <td>0.003623</td>\n",
       "      <td>6</td>\n",
       "      <td>[0.328194096110896, 0.2904260416823682, 0.0782...</td>\n",
       "      <td>[37, 36, 60, 26, 36, 57]</td>\n",
       "      <td>[80, 80, 80, 60, 80, 10]</td>\n",
       "      <td>[60, 0, 30, 240, 0, 160]</td>\n",
       "      <td>mozart_62686062</td>\n",
       "      <td></td>\n",
       "    </tr>\n",
       "    <tr>\n",
       "      <th>4</th>\n",
       "      <td>mozart</td>\n",
       "      <td>5</td>\n",
       "      <td>[data\\anechoic\\mozart\\mozart_vl1_6.mp3, data\\a...</td>\n",
       "      <td>80</td>\n",
       "      <td>0</td>\n",
       "      <td>159220</td>\n",
       "      <td>10</td>\n",
       "      <td>6</td>\n",
       "      <td>2</td>\n",
       "      <td>0.014399</td>\n",
       "      <td>7</td>\n",
       "      <td>[0.027338110707192387, 0.1408821036212028, 0.9...</td>\n",
       "      <td>[35, 33, 22, 2, 32, 45, 39]</td>\n",
       "      <td>[-40, 30, 10, 60, -10, 0, 90]</td>\n",
       "      <td>[167, 342, 205, 130, 335, 110, 0]</td>\n",
       "      <td>mozart_2221934</td>\n",
       "      <td></td>\n",
       "    </tr>\n",
       "  </tbody>\n",
       "</table>\n",
       "</div>"
      ],
      "text/plain": [
       "    composer  part_count                                              parts  \\\n",
       "0  beethoven           2  [data\\anechoic\\beethoven\\beethoven_tr2_6.mp3, ...   \n",
       "1     mahler          20  [data\\anechoic\\mahler\\mahler_corno2_6.mp3, dat...   \n",
       "2     mahler          15  [data\\anechoic\\mahler\\mahler_vla_6.mp3, data\\a...   \n",
       "3     mozart           3  [data\\anechoic\\mozart\\mozart_sopr_6.mp3, data\\...   \n",
       "4     mozart           5  [data\\anechoic\\mozart\\mozart_vl1_6.mp3, data\\a...   \n",
       "\n",
       "   zenith  azimuth  offset  duration  reverb_time  reverb_delay  \\\n",
       "0      50      168  123266        10            2            59   \n",
       "1      50       80  115395        10            3            37   \n",
       "2      90        0   13763        10            1            10   \n",
       "3       0      340  128284        10            5             9   \n",
       "4      80        0  159220        10            6             2   \n",
       "\n",
       "   reverb_amplitude  reflection_count  \\\n",
       "0          0.009893                 5   \n",
       "1          0.029793                 4   \n",
       "2          0.015878                 8   \n",
       "3          0.003623                 6   \n",
       "4          0.014399                 7   \n",
       "\n",
       "                                reflection_amplitude  \\\n",
       "0  [0.6896580159011172, 0.35806274637311675, 0.91...   \n",
       "1  [0.45875729159366263, 0.8331660430010549, 0.93...   \n",
       "2  [0.35097659036599904, 0.9770673046102978, 0.54...   \n",
       "3  [0.328194096110896, 0.2904260416823682, 0.0782...   \n",
       "4  [0.027338110707192387, 0.1408821036212028, 0.9...   \n",
       "\n",
       "                   reflection_delay                  reflection_zenith  \\\n",
       "0               [4, 46, 17, 13, 44]             [10, -30, 50, 20, -40]   \n",
       "1                   [50, 11, 4, 47]                   [60, 10, 30, 50]   \n",
       "2  [24, 42, 48, 24, 49, 46, 21, 49]  [0, -20, 10, -30, 0, -40, 10, 10]   \n",
       "3          [37, 36, 60, 26, 36, 57]           [80, 80, 80, 60, 80, 10]   \n",
       "4       [35, 33, 22, 2, 32, 45, 39]      [-40, 30, 10, 60, -10, 0, 90]   \n",
       "\n",
       "                       reflection_azimuth            filepath name  \n",
       "0                [275, 96, 288, 275, 257]  beethoven_13767182       \n",
       "1                      [40, 270, 72, 256]      mahler_2894305       \n",
       "2  [295, 220, 290, 30, 50, 302, 180, 255]     mahler_37910863       \n",
       "3                [60, 0, 30, 240, 0, 160]     mozart_62686062       \n",
       "4       [167, 342, 205, 130, 335, 110, 0]      mozart_2221934       "
      ]
     },
     "execution_count": 4,
     "metadata": {},
     "output_type": "execute_result"
    }
   ],
   "source": [
    "recipe = dg.generate_recipe(10)\n",
    "recipe.head()"
   ]
  },
  {
   "cell_type": "markdown",
   "id": "de0cb00c-3802-4d90-ac2d-823bfaa2dc36",
   "metadata": {},
   "source": [
    "## `generate_sample_recipe`"
   ]
  },
  {
   "cell_type": "code",
   "execution_count": 5,
   "id": "a9b299b7-f217-4d16-bac2-d044c8c058e1",
   "metadata": {},
   "outputs": [
    {
     "name": "stdout",
     "output_type": "stream",
     "text": [
      "Generating recipe mahler_85770451\n",
      "\n"
     ]
    },
    {
     "data": {
      "text/plain": [
       "{'composer': 'mahler',\n",
       " 'part_count': 12,\n",
       " 'parts': array(['data\\\\anechoic\\\\mahler\\\\mahler_cl2_6.mp3',\n",
       "        'data\\\\anechoic\\\\mahler\\\\mahler_bsn1_6.mp3',\n",
       "        'data\\\\anechoic\\\\mahler\\\\mahler_trb2_6.mp3',\n",
       "        'data\\\\anechoic\\\\mahler\\\\mahler_bsn2_6.mp3',\n",
       "        'data\\\\anechoic\\\\mahler\\\\mahler_corno1_6.mp3',\n",
       "        'data\\\\anechoic\\\\mahler\\\\mahler_timp2_6.mp3',\n",
       "        'data\\\\anechoic\\\\mahler\\\\mahler_vl2b_6.mp3',\n",
       "        'data\\\\anechoic\\\\mahler\\\\mahler_bsn3_6.mp3',\n",
       "        'data\\\\anechoic\\\\mahler\\\\mahler_trb3_6.mp3',\n",
       "        'data\\\\anechoic\\\\mahler\\\\mahler_cl3_6.mp3',\n",
       "        'data\\\\anechoic\\\\mahler\\\\mahler_timp1_6.mp3',\n",
       "        'data\\\\anechoic\\\\mahler\\\\mahler_perc2_6.mp3'], dtype='<U40'),\n",
       " 'zenith': 50,\n",
       " 'azimuth': 120,\n",
       " 'offset': 11363,\n",
       " 'duration': 10,\n",
       " 'reverb_time': 5,\n",
       " 'reverb_delay': 42,\n",
       " 'reverb_amplitude': 0.008967043973574784,\n",
       " 'reflection_count': 7,\n",
       " 'reflection_amplitude': [0.6288460652886312,\n",
       "  0.2710392906242888,\n",
       "  0.19813682224751505,\n",
       "  0.5174935441910532,\n",
       "  0.02083641621194965,\n",
       "  0.3445672936401233,\n",
       "  0.34022008592638253],\n",
       " 'reflection_delay': [15, 20, 22, 53, 44, 24, 39],\n",
       " 'reflection_zenith': [0, 10, -10, 50, 80, 20, 20],\n",
       " 'reflection_azimuth': [105, 265, 330, 288, 60, 85, 280],\n",
       " 'filepath': 'mahler_85770451',\n",
       " 'name': ''}"
      ]
     },
     "execution_count": 5,
     "metadata": {},
     "output_type": "execute_result"
    }
   ],
   "source": [
    "sample_recipe = dg.generate_sample_recipe()\n",
    "sample_recipe"
   ]
  },
  {
   "cell_type": "markdown",
   "id": "d04a49e4-2b82-4bd9-a262-e957ae1a9425",
   "metadata": {},
   "source": [
    "## `generate_sample`"
   ]
  },
  {
   "cell_type": "code",
   "execution_count": 6,
   "id": "bbb7d0d7-6fb9-4559-8a8e-2ce93315354b",
   "metadata": {},
   "outputs": [
    {
     "name": "stdout",
     "output_type": "stream",
     "text": [
      "Generating sample: mahler_85770451\n",
      "\n",
      "\tMixing parts: mahler_85770451\n",
      "\tApplying HRTF: mahler_85770451\n",
      "\tApplying reflections: mahler_85770451\n",
      "\tApplying reverberation: mahler_85770451\n",
      "\tSumming signals: mahler_85770451\n",
      "\tAdjusting signal-to-noise ratio: mahler_85770451\n",
      "\tTrimming sample: mahler_85770451\n",
      "\tWriting file: mahler_85770451.wav\n",
      "\tWriting file: mahler_85770451_rir.wav\n",
      "\tWriting file: mahler_85770451_raw.wav\n",
      "\tWriting file: mahler_85770451_hrtf.wav\n",
      "\tWriting file: mahler_85770451_reflections.wav\n",
      "\tWriting file: mahler_85770451_reverberation.wav\n",
      "\tWriting file: mahler_85770451_summation.wav\n",
      "\tWriting file: mahler_85770451_noise.wav\n"
     ]
    }
   ],
   "source": [
    "dg.generate_sample(sample_recipe)"
   ]
  },
  {
   "cell_type": "markdown",
   "id": "f490a1ec-3505-4410-bf19-ba24c0823a5a",
   "metadata": {},
   "source": [
    "## `generate_samples`"
   ]
  },
  {
   "cell_type": "code",
   "execution_count": 7,
   "id": "10745ccc-6a59-4972-86e9-84e190de3319",
   "metadata": {},
   "outputs": [
    {
     "name": "stdout",
     "output_type": "stream",
     "text": [
      "Generating sample: beethoven_13767182\n",
      "\n",
      "\tMixing parts: beethoven_13767182\n",
      "\tApplying HRTF: beethoven_13767182\n",
      "\tApplying reflections: beethoven_13767182\n",
      "\tApplying reverberation: beethoven_13767182\n",
      "\tSumming signals: beethoven_13767182\n",
      "\tAdjusting signal-to-noise ratio: beethoven_13767182\n",
      "\tTrimming sample: beethoven_13767182\n",
      "Generating sample: mahler_2894305\n",
      "\n",
      "\tMixing parts: mahler_2894305\n",
      "\tApplying HRTF: mahler_2894305\n",
      "\tApplying reflections: mahler_2894305\n",
      "\tApplying reverberation: mahler_2894305\n",
      "\tSumming signals: mahler_2894305\n",
      "\tAdjusting signal-to-noise ratio: mahler_2894305\n",
      "\tTrimming sample: mahler_2894305\n",
      "Generating sample: mahler_37910863\n",
      "\n",
      "\tMixing parts: mahler_37910863\n",
      "\tApplying HRTF: mahler_37910863\n",
      "\tApplying reflections: mahler_37910863\n",
      "\tApplying reverberation: mahler_37910863\n",
      "\tSumming signals: mahler_37910863\n",
      "\tAdjusting signal-to-noise ratio: mahler_37910863\n",
      "\tTrimming sample: mahler_37910863\n",
      "Generating sample: mozart_62686062\n",
      "\n",
      "\tMixing parts: mozart_62686062\n",
      "\tApplying HRTF: mozart_62686062\n",
      "\tApplying reflections: mozart_62686062\n",
      "\tApplying reverberation: mozart_62686062\n",
      "\tSumming signals: mozart_62686062\n",
      "\tAdjusting signal-to-noise ratio: mozart_62686062\n",
      "\tTrimming sample: mozart_62686062\n",
      "Generating sample: mozart_2221934\n",
      "\n",
      "\tMixing parts: mozart_2221934\n",
      "\tApplying HRTF: mozart_2221934\n",
      "\tApplying reflections: mozart_2221934\n",
      "\tApplying reverberation: mozart_2221934\n",
      "\tSumming signals: mozart_2221934\n",
      "\tAdjusting signal-to-noise ratio: mozart_2221934\n",
      "\tTrimming sample: mozart_2221934\n",
      "\tWriting file: mozart_2221934.wav\n",
      "\tWriting file: mozart_2221934_rir.wav\n",
      "\tWriting file: mozart_2221934_raw.wav\n",
      "\tWriting file: mozart_2221934_hrtf.wav\n",
      "\tWriting file: mozart_2221934_reflections.wav\n",
      "\tWriting file: mozart_2221934_reverberation.wav\n",
      "\tWriting file: mozart_2221934_summation.wav\n",
      "\tWriting file: mozart_2221934_noise.wav\n",
      "Generating sample: bruckner_26108590\n",
      "\n",
      "\tMixing parts: bruckner_26108590\n",
      "\tApplying HRTF: bruckner_26108590\n",
      "\tApplying reflections: bruckner_26108590\n",
      "\tApplying reverberation: bruckner_26108590\n",
      "\tSumming signals: bruckner_26108590\n",
      "\tAdjusting signal-to-noise ratio: bruckner_26108590\n",
      "\tTrimming sample: bruckner_26108590\n",
      "Generating sample: bruckner_99773617\n",
      "\n",
      "\tMixing parts: bruckner_99773617\n",
      "\tApplying HRTF: bruckner_99773617\n",
      "\tApplying reflections: bruckner_99773617\n",
      "\tApplying reverberation: bruckner_99773617\n",
      "\tSumming signals: bruckner_99773617\n",
      "\tAdjusting signal-to-noise ratio: bruckner_99773617\n",
      "\tTrimming sample: bruckner_99773617\n",
      "\tWriting file: bruckner_99773617.wav\n",
      "\tWriting file: bruckner_99773617_rir.wav\n",
      "\tWriting file: bruckner_99773617_raw.wav\n",
      "\tWriting file: bruckner_99773617_hrtf.wav\n",
      "\tWriting file: bruckner_99773617_reflections.wav\n",
      "\tWriting file: bruckner_99773617_reverberation.wav\n",
      "\tWriting file: bruckner_99773617_summation.wav\n",
      "\tWriting file: bruckner_99773617_noise.wav\n",
      "Generating sample: beethoven_72641010\n",
      "\n",
      "\tMixing parts: beethoven_72641010\n",
      "\tApplying HRTF: beethoven_72641010\n",
      "\tApplying reflections: beethoven_72641010\n",
      "\tApplying reverberation: beethoven_72641010\n",
      "\tSumming signals: beethoven_72641010\n",
      "\tAdjusting signal-to-noise ratio: beethoven_72641010\n",
      "\tTrimming sample: beethoven_72641010\n",
      "Generating sample: bruckner_27302613\n",
      "\n",
      "\tMixing parts: bruckner_27302613\n",
      "\tApplying HRTF: bruckner_27302613\n",
      "\tApplying reflections: bruckner_27302613\n",
      "\tApplying reverberation: bruckner_27302613\n",
      "\tSumming signals: bruckner_27302613\n",
      "\tAdjusting signal-to-noise ratio: bruckner_27302613\n",
      "\tTrimming sample: bruckner_27302613\n",
      "\tWriting file: bruckner_27302613.wav\n",
      "\tWriting file: bruckner_27302613_rir.wav\n",
      "\tWriting file: bruckner_27302613_raw.wav\n",
      "\tWriting file: bruckner_27302613_hrtf.wav\n",
      "\tWriting file: bruckner_27302613_reflections.wav\n",
      "\tWriting file: bruckner_27302613_reverberation.wav\n",
      "\tWriting file: bruckner_27302613_summation.wav\n",
      "\tWriting file: bruckner_27302613_noise.wav\n",
      "Generating sample: mahler_52050650\n",
      "\n",
      "\tMixing parts: mahler_52050650\n",
      "\tApplying HRTF: mahler_52050650\n",
      "\tApplying reflections: mahler_52050650\n",
      "\tApplying reverberation: mahler_52050650\n",
      "\tSumming signals: mahler_52050650\n",
      "\tAdjusting signal-to-noise ratio: mahler_52050650\n",
      "\tTrimming sample: mahler_52050650\n",
      "\tWriting file: mahler_52050650.wav\n",
      "\tWriting file: mahler_52050650_rir.wav\n",
      "\tWriting file: mahler_52050650_raw.wav\n",
      "\tWriting file: mahler_52050650_hrtf.wav\n",
      "\tWriting file: mahler_52050650_reflections.wav\n",
      "\tWriting file: mahler_52050650_reverberation.wav\n",
      "\tWriting file: mahler_52050650_summation.wav\n",
      "\tWriting file: mahler_52050650_noise.wav\n"
     ]
    },
    {
     "data": {
      "text/plain": [
       "0    None\n",
       "1    None\n",
       "2    None\n",
       "3    None\n",
       "4    None\n",
       "5    None\n",
       "6    None\n",
       "7    None\n",
       "8    None\n",
       "9    None\n",
       "dtype: object"
      ]
     },
     "execution_count": 7,
     "metadata": {},
     "output_type": "execute_result"
    }
   ],
   "source": [
    "dg.generate_samples(recipe)"
   ]
  },
  {
   "cell_type": "markdown",
   "id": "5eeaeffb-2429-4b19-ba48-4b9acb34fefa",
   "metadata": {},
   "source": [
    "## `get_reflections`"
   ]
  },
  {
   "cell_type": "code",
   "execution_count": 8,
   "id": "34baf92c-9702-4956-b596-10ecf301ae18",
   "metadata": {},
   "outputs": [
    {
     "data": {
      "text/plain": [
       "([40, 90, 10, 50],\n",
       " [45, 0, 15, 128],\n",
       " [0.21291863346110518,\n",
       "  0.17237201332981156,\n",
       "  0.6499442548988491,\n",
       "  0.9892598880322562],\n",
       " [14, 35, 2, 57])"
      ]
     },
     "execution_count": 8,
     "metadata": {},
     "output_type": "execute_result"
    }
   ],
   "source": [
    "reflections = dg.get_reflections(4)\n",
    "reflections"
   ]
  },
  {
   "cell_type": "markdown",
   "id": "9d6b04c1-de40-413a-9690-1eae6749db4f",
   "metadata": {},
   "source": [
    "## `write`"
   ]
  },
  {
   "cell_type": "markdown",
   "id": "e4eb9462-468b-4495-abd9-da11ffa6a001",
   "metadata": {},
   "source": []
  }
 ],
 "metadata": {
  "kernelspec": {
   "display_name": "Python 3 (ipykernel)",
   "language": "python",
   "name": "python3"
  },
  "language_info": {
   "codemirror_mode": {
    "name": "ipython",
    "version": 3
   },
   "file_extension": ".py",
   "mimetype": "text/x-python",
   "name": "python",
   "nbconvert_exporter": "python",
   "pygments_lexer": "ipython3",
   "version": "3.10.0"
  },
  "widgets": {
   "application/vnd.jupyter.widget-state+json": {
    "state": {},
    "version_major": 2,
    "version_minor": 0
   }
  }
 },
 "nbformat": 4,
 "nbformat_minor": 5
}
